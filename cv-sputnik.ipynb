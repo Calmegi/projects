{
 "cells": [
  {
   "cell_type": "markdown",
   "metadata": {},
   "source": [
    "### Цель:\n",
    "Сегментация объектов, расположенных на территории горнопромышленного комплекса в ДФО на основе спутниковых снимков Sentinel-2.\n",
    "\n",
    "Предварительное тестирование будет проводиться на открытом наборе данных по метрике Intersection over Union (IoU) для каждого класса, а также по общей метрике mean IoU (mIoU). При расчете метрики класс фона исключается.\n",
    "\n",
    "Обучающая выборка содержит:\n",
    "- части спутниковых снимков размером 256x256 пикселей \n",
    "- маски (изображения с метками классов) объектов, представленных в таблице.\n",
    "\n",
    "Каждый снимок состоит из 6 каналов: BLUE, GREEN, RED, NIR, SWIR1, SWIR2. \n"
   ]
  },
  {
   "cell_type": "markdown",
   "metadata": {},
   "source": [
    "Финальные метрики после обучения:\n",
    " - Train loss: 0.0315\n",
    " - Val   loss: 0.0884\n",
    " - Train mIoU(1,2): 0.9605\n",
    " - Val   mIoU(1,2): 0.9407\n",
    " - Train IoU per class: [C0=0.9781, C1=0.9522, C2=0.9510]\n",
    " - Val   IoU per class: [C0=0.9697, C1=0.9349, C2=0.9175]"
   ]
  },
  {
   "cell_type": "code",
   "execution_count": null,
   "metadata": {
    "_cell_guid": "f652b9e6-69c3-43a0-b077-c168d7ac0d3f",
    "_uuid": "73bbebd3-45d4-410e-91be-19e12d46b6e3",
    "collapsed": false,
    "execution": {
     "iopub.execute_input": "2025-09-12T20:10:34.092411Z",
     "iopub.status.busy": "2025-09-12T20:10:34.092131Z",
     "iopub.status.idle": "2025-09-12T20:10:53.113393Z",
     "shell.execute_reply": "2025-09-12T20:10:53.112590Z",
     "shell.execute_reply.started": "2025-09-12T20:10:34.092390Z"
    },
    "jupyter": {
     "outputs_hidden": false
    },
    "trusted": true
   },
   "outputs": [],
   "source": [
    "!pip install numpy \n",
    "!pip install rasterio  \n",
    "!pip install matplotlib  \n",
    "!pip install torch  \n",
    "!pip install segmentation-models-pytorch  \n",
    "\n",
    "!pip install tqdm"
   ]
  },
  {
   "cell_type": "code",
   "execution_count": null,
   "metadata": {
    "_cell_guid": "9c69cba2-3751-4a0a-8d7f-3b31bc846b3f",
    "_uuid": "ab64b0df-3b38-49c7-b7a1-070e8ccb1a52",
    "collapsed": false,
    "execution": {
     "iopub.execute_input": "2025-09-12T20:13:15.442565Z",
     "iopub.status.busy": "2025-09-12T20:13:15.441857Z",
     "iopub.status.idle": "2025-09-12T20:13:15.447719Z",
     "shell.execute_reply": "2025-09-12T20:13:15.446844Z",
     "shell.execute_reply.started": "2025-09-12T20:13:15.442529Z"
    },
    "jupyter": {
     "outputs_hidden": false
    },
    "trusted": true
   },
   "outputs": [],
   "source": [
    "import os\n",
    "import functools\n",
    "import glob\n",
    "import json\n",
    "from tqdm import tqdm\n",
    "\n",
    "import numpy as np\n",
    "import rasterio\n",
    "import matplotlib.pyplot as plt\n",
    "\n",
    "import torch\n",
    "import torch.nn as nn\n",
    "import torch.nn.functional as F\n",
    "from torch.utils.data import DataLoader\n",
    "import segmentation_models_pytorch as smp\n",
    "\n",
    "import functools\n",
    "from torch.optim.lr_scheduler import CosineAnnealingLR\n",
    "\n",
    "import random\n",
    "\n",
    "import zipfile\n",
    "from pathlib import Path"
   ]
  },
  {
   "cell_type": "code",
   "execution_count": null,
   "metadata": {
    "_cell_guid": "da4c3bfd-14bf-4bd5-8bcc-59805ecdc2fb",
    "_uuid": "a09ca653-0e94-4c94-9f42-13b80f426418",
    "collapsed": false,
    "execution": {
     "iopub.execute_input": "2025-09-12T20:13:17.276872Z",
     "iopub.status.busy": "2025-09-12T20:13:17.276187Z",
     "iopub.status.idle": "2025-09-12T20:13:17.280949Z",
     "shell.execute_reply": "2025-09-12T20:13:17.280304Z",
     "shell.execute_reply.started": "2025-09-12T20:13:17.276846Z"
    },
    "jupyter": {
     "outputs_hidden": false
    },
    "trusted": true
   },
   "outputs": [],
   "source": [
    "DEVICE = 'cuda' if torch.cuda.is_available() else 'cpu'\n",
    "print(f'Using device: {DEVICE}')"
   ]
  },
  {
   "cell_type": "code",
   "execution_count": null,
   "metadata": {
    "_cell_guid": "526d6d0d-77e0-4860-ae97-82a7a7462b64",
    "_uuid": "a6a16268-a4b7-46eb-bc57-23cac1fbaaa5",
    "collapsed": false,
    "execution": {
     "iopub.execute_input": "2025-09-12T20:13:19.469697Z",
     "iopub.status.busy": "2025-09-12T20:13:19.468958Z",
     "iopub.status.idle": "2025-09-12T20:13:19.473172Z",
     "shell.execute_reply": "2025-09-12T20:13:19.472306Z",
     "shell.execute_reply.started": "2025-09-12T20:13:19.469673Z"
    },
    "jupyter": {
     "outputs_hidden": false
    },
    "trusted": true
   },
   "outputs": [],
   "source": [
    "DIR_DATASET = '/kaggle/input/train-data/train'"
   ]
  },
  {
   "cell_type": "code",
   "execution_count": null,
   "metadata": {
    "_cell_guid": "d04618bc-4874-4ab1-81fd-b6b7af47f92b",
    "_uuid": "d8753705-29b2-4246-ae50-ee891319a47a",
    "collapsed": false,
    "execution": {
     "iopub.execute_input": "2025-09-12T21:07:12.611346Z",
     "iopub.status.busy": "2025-09-12T21:07:12.610728Z",
     "iopub.status.idle": "2025-09-12T21:07:12.623420Z",
     "shell.execute_reply": "2025-09-12T21:07:12.622667Z",
     "shell.execute_reply.started": "2025-09-12T21:07:12.611315Z"
    },
    "jupyter": {
     "outputs_hidden": false
    },
    "trusted": true
   },
   "outputs": [],
   "source": [
    "IGNORE_INDEX = 255  \n",
    "NUM_CLASSES  = 3\n",
    "\n",
    "# класс датасета с преобразованием формата входных данных в удобный для модели вид\n",
    "class Dataset(torch.utils.data.Dataset):\n",
    "    def __init__(self, imgs, masks, channels=None, transform=None, return_paths=False):\n",
    "        assert len(imgs) == len(masks)\n",
    "        self.imgs = imgs\n",
    "        self.masks = masks\n",
    "    \n",
    "        if channels is not None:\n",
    "            channels = np.asarray(channels, dtype=int)\n",
    "        self.channels = channels\n",
    "        self.transform = transform\n",
    "        self.return_paths = bool(return_paths)\n",
    "\n",
    "    def __len__(self):\n",
    "        return len(self.imgs)\n",
    "\n",
    "    def _read_image(self, pth_tif):\n",
    "        with rasterio.open(pth_tif) as f:\n",
    "            img = f.read().astype(np.float32)\n",
    "       \n",
    "        np.nan_to_num(img, copy=False, nan=0.0, posinf=0.0, neginf=0.0)\n",
    "    \n",
    "        if self.channels is not None:\n",
    "            # проверка границ\n",
    "            assert self.channels.max() < img.shape[0], \\\n",
    "                f\"channels содержит индекс {self.channels.max()}, но в изображении только {img.shape[0]} каналов\"\n",
    "            img = img[self.channels] \n",
    "        return img\n",
    "\n",
    "    def _read_mask(self, pth_mask):\n",
    "        with rasterio.open(pth_mask) as f:\n",
    "            m = f.read(1).astype(np.int64)     \n",
    "\n",
    "        \n",
    "        valid = (m >= 0) & (m < NUM_CLASSES)\n",
    "        out = np.full_like(m, IGNORE_INDEX, dtype=np.int64)\n",
    "        out[valid] = m[valid]\n",
    "        return out\n",
    "\n",
    "    def __getitem__(self, i):\n",
    "        img = self._read_image(self.imgs[i])   \n",
    "        msk = self._read_mask(self.masks[i])   \n",
    "\n",
    "        if self.transform is not None:\n",
    "            \n",
    "            img_hwc = np.transpose(img, (1, 2, 0))  \n",
    "            sample = self.transform(image=img_hwc, mask=msk)\n",
    "\n",
    "            \n",
    "            img_t = sample[\"image\"]\n",
    "            msk_t = sample[\"mask\"]\n",
    "\n",
    "            if isinstance(img_t, np.ndarray):\n",
    "              \n",
    "                assert img_t.ndim == 3, f\"Ожидался [H,W,C], получил shape={img_t.shape}\"\n",
    "                img = np.transpose(img_t, (2, 0, 1)).copy() \n",
    "                img = torch.from_numpy(img)\n",
    "            else:\n",
    "                img = img_t\n",
    "                if img.ndim == 3 and img.shape[-1] in (1, 3, 6) and img.shape[0] not in (1, 3, 6):\n",
    "                    \n",
    "                    img = img.permute(2, 0, 1).contiguous()\n",
    "\n",
    "            if isinstance(msk_t, np.ndarray):\n",
    "                msk = torch.from_numpy(msk_t.copy())\n",
    "            else:\n",
    "                msk = msk_t\n",
    "        else:\n",
    "            img = torch.from_numpy(np.ascontiguousarray(img))\n",
    "            msk = torch.from_numpy(np.ascontiguousarray(msk))\n",
    "\n",
    "        img = img.to(torch.float32)   \n",
    "        msk = msk.to(torch.long)     \n",
    "\n",
    "        if self.return_paths:\n",
    "            return img, msk, self.imgs[i], self.masks[i]\n",
    "        return img, msk"
   ]
  },
  {
   "cell_type": "code",
   "execution_count": null,
   "metadata": {
    "_cell_guid": "5887291a-3cca-40bf-90f0-ccfa795c3a2d",
    "_uuid": "c3bd1f82-6ef2-446a-a0ad-b4db69f7098e",
    "collapsed": false,
    "execution": {
     "iopub.execute_input": "2025-09-12T21:07:13.818269Z",
     "iopub.status.busy": "2025-09-12T21:07:13.817981Z",
     "iopub.status.idle": "2025-09-12T21:07:13.851259Z",
     "shell.execute_reply": "2025-09-12T21:07:13.850594Z",
     "shell.execute_reply.started": "2025-09-12T21:07:13.818246Z"
    },
    "jupyter": {
     "outputs_hidden": false
    },
    "trusted": true
   },
   "outputs": [
    {
     "name": "stdout",
     "output_type": "stream",
     "text": [
      "  - Train: 623 примеров\n",
      "  - Validation: 133 примеров\n"
     ]
    }
   ],
   "source": [
    "LST_CHANNELS = [0, 1, 2, 3, 4, 5] \n",
    "NUM_CHANNELS = len(LST_CHANNELS)\n",
    "assert NUM_CHANNELS == 6, f\"Ожидалось 6 каналов, получено {NUM_CHANNELS}\"\n",
    "\n",
    "TRAIN_IMAGES_PATH = '/kaggle/input/train-data/train/train/image'\n",
    "TRAIN_MASKS_PATH  = '/kaggle/input/train-data/train/train/mask'\n",
    "VAL_IMAGES_PATH   = '/kaggle/input/train-data/train/val/image'\n",
    "VAL_MASKS_PATH    = '/kaggle/input/train-data/train/val/mask'\n",
    "\n",
    "for p in [TRAIN_IMAGES_PATH, TRAIN_MASKS_PATH, VAL_IMAGES_PATH, VAL_MASKS_PATH]:\n",
    "    assert os.path.isdir(p), f\"Директория не найдена: {p}\"\n",
    "\n",
    "def list_tifs(folder):\n",
    "    files = glob.glob(os.path.join(folder, \"*.tif\")) + glob.glob(os.path.join(folder, \"*.tiff\"))\n",
    "    return [Path(x) for x in files]\n",
    "\n",
    "def pair_by_stem(img_paths, mask_paths):\n",
    "    img_map  = {p.stem: p for p in img_paths}\n",
    "    mask_map = {p.stem: p for p in mask_paths}\n",
    "\n",
    "    common = sorted(set(img_map.keys()) & set(mask_map.keys()))\n",
    "    missing_img  = sorted(set(mask_map.keys()) - set(img_map.keys()))\n",
    "    missing_mask = sorted(set(img_map.keys())  - set(mask_map.keys()))\n",
    "\n",
    "    if missing_img:\n",
    "        raise FileNotFoundError(f\"Для {len(missing_img)} масок нет изображений. Примеры: {missing_img[:5]}\")\n",
    "    if missing_mask:\n",
    "        raise FileNotFoundError(f\"Для {len(missing_mask)} изображений нет масок. Примеры: {missing_mask[:5]}\")\n",
    "\n",
    "    imgs  = [str(img_map[k]) for k in common]\n",
    "    masks = [str(mask_map[k]) for k in common]\n",
    "    return imgs, masks\n",
    "\n",
    "raw_train_imgs  = list_tifs(TRAIN_IMAGES_PATH)\n",
    "raw_train_masks = list_tifs(TRAIN_MASKS_PATH)\n",
    "raw_val_imgs    = list_tifs(VAL_IMAGES_PATH)\n",
    "raw_val_masks   = list_tifs(VAL_MASKS_PATH)\n",
    "\n",
    "LST_TRAIN_IMG, LST_TRAIN_MASK = pair_by_stem(raw_train_imgs, raw_train_masks)\n",
    "LST_VAL_IMG,   LST_VAL_MASK   = pair_by_stem(raw_val_imgs,   raw_val_masks)\n",
    "\n",
    "\n",
    "dataset_train = Dataset(\n",
    "    imgs=LST_TRAIN_IMG,\n",
    "    masks=LST_TRAIN_MASK,\n",
    "    channels=LST_CHANNELS,\n",
    "    transform=None,    \n",
    "    return_paths=False\n",
    ")\n",
    "\n",
    "dataset_val = Dataset(\n",
    "    imgs=LST_VAL_IMG,\n",
    "    masks=LST_VAL_MASK,\n",
    "    channels=LST_CHANNELS,\n",
    "    transform=None,    \n",
    "    return_paths=False\n",
    ")\n",
    "\n",
    "print(f\"  - Train: {len(dataset_train)} примеров\")\n",
    "print(f\"  - Validation: {len(dataset_val)} примеров\")\n",
    "\n",
    "train_img, train_mask = LST_TRAIN_IMG, LST_TRAIN_MASK\n",
    "val_img,   val_mask   = LST_VAL_IMG,   LST_VAL_MASK"
   ]
  },
  {
   "cell_type": "code",
   "execution_count": null,
   "metadata": {
    "_cell_guid": "e36e4c5d-4bc2-4886-88d4-3eff88ab3d20",
    "_uuid": "339d36ff-4d68-476f-8095-e0f08ea7f9ee",
    "collapsed": false,
    "execution": {
     "iopub.execute_input": "2025-09-12T21:07:24.176502Z",
     "iopub.status.busy": "2025-09-12T21:07:24.175716Z",
     "iopub.status.idle": "2025-09-12T21:07:26.452660Z",
     "shell.execute_reply": "2025-09-12T21:07:26.451782Z",
     "shell.execute_reply.started": "2025-09-12T21:07:24.176474Z"
    },
    "jupyter": {
     "outputs_hidden": false
    },
    "trusted": true
   },
   "outputs": [
    {
     "name": "stdout",
     "output_type": "stream",
     "text": [
      "Анализ распределения классов в 623 масках...\n"
     ]
    },
    {
     "name": "stderr",
     "output_type": "stream",
     "text": [
      "100%|██████████| 623/623 [00:02<00:00, 275.33it/s]"
     ]
    },
    {
     "name": "stdout",
     "output_type": "stream",
     "text": [
      "\n",
      " Распределение пикселей по классам\n",
      "Класс 0: 26808156 пикселей (65.6597%)\n",
      "Класс 1: 12211966 пикселей (29.9101%)\n",
      "Класс 2: 1808806 пикселей (4.4302%)\n",
      "\n",
      "Рассчитанные веса для CrossEntropyLoss \n",
      "Класс 0: вес 0.1665\n",
      "Класс 1: вес 0.3656\n",
      "Класс 2: вес 2.4679\n"
     ]
    },
    {
     "name": "stderr",
     "output_type": "stream",
     "text": [
      "\n"
     ]
    }
   ],
   "source": [
    "EPS = 1e-6\n",
    "BATCH_SIZE = 15\n",
    "\n",
    "DEVICE = torch.device(\"cuda\" if torch.cuda.is_available() else \"cpu\")\n",
    "\n",
    "def calculate_class_pixels(mask_paths, num_classes=NUM_CLASSES):\n",
    "    class_pixel_counts = np.zeros(num_classes, dtype=np.int64)\n",
    "\n",
    "    if len(mask_paths) == 0:\n",
    "        raise ValueError(\"Список путей к маскам пуст\")\n",
    "\n",
    "    print(f\"Анализ распределения классов в {len(mask_paths)} масках...\")\n",
    "    for path in tqdm(mask_paths):\n",
    "        with rasterio.open(path) as f:\n",
    "            mask = f.read(1).astype(np.int64)  # [H,W]\n",
    "\n",
    "        valid = (mask >= 0) & (mask < num_classes)\n",
    "        if valid.any():\n",
    "            counts = np.bincount(mask[valid].ravel(), minlength=num_classes)\n",
    "            class_pixel_counts += counts\n",
    "\n",
    "    return class_pixel_counts\n",
    "\n",
    "def compute_class_weights(pixel_counts, num_classes=NUM_CLASSES, eps=EPS):\n",
    "    total_pixels = int(np.asarray(pixel_counts, dtype=np.int64).sum())\n",
    "    if total_pixels == 0:\n",
    "        raise ValueError(\"total_pixels == 0 после фильтрации валидных классов.\")\n",
    "\n",
    "    class_frequencies = pixel_counts / max(total_pixels, 1)\n",
    "    # 1/freq (+eps) — чтобы класс с нулевой частотой не дал бесконечный вес\n",
    "    class_weights = 1.0 / (class_frequencies + eps)\n",
    "    class_weights = class_weights / class_weights.sum() * num_classes\n",
    "    return class_weights.astype(np.float32), total_pixels, class_frequencies\n",
    "\n",
    "pixel_counts = calculate_class_pixels(LST_TRAIN_MASK, NUM_CLASSES)\n",
    "\n",
    "print(\"\\n Распределение пикселей по классам\")\n",
    "class_weights_np, total_pixels, class_freq = compute_class_weights(pixel_counts, NUM_CLASSES, EPS)\n",
    "for i, count in enumerate(pixel_counts):\n",
    "    percentage = (count / total_pixels) * 100 if total_pixels > 0 else 0.0\n",
    "    print(f\"Класс {i}: {count} пикселей ({percentage:.4f}%)\")\n",
    "\n",
    "print(\"\\nРассчитанные веса для CrossEntropyLoss \")\n",
    "for i, w in enumerate(class_weights_np):\n",
    "    print(f\"Класс {i}: вес {float(w):.4f}\")\n",
    "\n",
    "class_weights_tensor = torch.tensor(class_weights_np, dtype=torch.float32, device=DEVICE)\n",
    "loss_fn = nn.CrossEntropyLoss(weight=class_weights_tensor, ignore_index=IGNORE_INDEX)"
   ]
  },
  {
   "cell_type": "code",
   "execution_count": null,
   "metadata": {
    "_cell_guid": "50281380-e250-41af-b580-0e5a0d9dfc11",
    "_uuid": "cdc49c5a-5864-46d6-9dc1-fcac2787974c",
    "collapsed": false,
    "execution": {
     "iopub.execute_input": "2025-09-12T21:07:26.454309Z",
     "iopub.status.busy": "2025-09-12T21:07:26.454091Z",
     "iopub.status.idle": "2025-09-12T21:07:26.458520Z",
     "shell.execute_reply": "2025-09-12T21:07:26.457943Z",
     "shell.execute_reply.started": "2025-09-12T21:07:26.454292Z"
    },
    "jupyter": {
     "outputs_hidden": false
    },
    "trusted": true
   },
   "outputs": [],
   "source": [
    "from torch.utils.data import DataLoader\n",
    "\n",
    "dataloader_train = DataLoader(\n",
    "    dataset_train,\n",
    "    batch_size=BATCH_SIZE,\n",
    "    shuffle=True,           \n",
    "    pin_memory=True,\n",
    "    num_workers=4,         \n",
    "    drop_last=True         \n",
    ")\n",
    "\n",
    "dataloader_val = DataLoader(\n",
    "    dataset_val,\n",
    "    batch_size=BATCH_SIZE,\n",
    "    shuffle=False,          \n",
    "    pin_memory=True,\n",
    "    num_workers=4,\n",
    "    drop_last=False         \n",
    ")"
   ]
  },
  {
   "cell_type": "code",
   "execution_count": null,
   "metadata": {
    "_cell_guid": "d8b554de-3289-46c1-9fd8-837b77946269",
    "_uuid": "e702a0dc-e681-48b8-8ce4-052308270ad1",
    "collapsed": false,
    "execution": {
     "iopub.execute_input": "2025-09-12T21:07:26.459488Z",
     "iopub.status.busy": "2025-09-12T21:07:26.459290Z",
     "iopub.status.idle": "2025-09-12T21:07:27.275222Z",
     "shell.execute_reply": "2025-09-12T21:07:27.274568Z",
     "shell.execute_reply.started": "2025-09-12T21:07:26.459472Z"
    },
    "jupyter": {
     "outputs_hidden": false
    },
    "trusted": true
   },
   "outputs": [
    {
     "name": "stdout",
     "output_type": "stream",
     "text": [
      "Модель: Unet++(resnet50, 6ch, с нуля), Weighted CrossEntropy(ignore_index), AdamW + CosineAnnealingLR.\n"
     ]
    }
   ],
   "source": [
    "model = smp.UnetPlusPlus(\n",
    "    encoder_name='resnet50',\n",
    "    encoder_weights=None,         \n",
    "    in_channels=NUM_CHANNELS,     \n",
    "    classes=NUM_CLASSES,\n",
    ")\n",
    "model.to(DEVICE)\n",
    "\n",
    "loss_fn = nn.CrossEntropyLoss(weight=class_weights_tensor, ignore_index=IGNORE_INDEX)\n",
    "\n",
    "@torch.no_grad()\n",
    "def mean_iou(logits: torch.Tensor, target: torch.Tensor, num_classes: int, ignore_index: int = IGNORE_INDEX):\n",
    "    pred = torch.argmax(logits, dim=1)  \n",
    "\n",
    "    valid = (target >= 0) & (target < num_classes)\n",
    "    if ignore_index is not None:\n",
    "        valid = valid & (target != ignore_index)\n",
    "\n",
    "    if valid.sum() == 0:\n",
    "        return torch.tensor(0.0, device=logits.device), torch.zeros(num_classes, device=logits.device)\n",
    "\n",
    "    t = target[valid].reshape(-1).to(torch.int64)\n",
    "    p = pred[valid].reshape(-1).to(torch.int64)\n",
    "    hist = torch.bincount(num_classes * t + p, minlength=num_classes * num_classes)\n",
    "    hist = hist.reshape(num_classes, num_classes).to(torch.float32)\n",
    "\n",
    "    inter = torch.diag(hist)                  \n",
    "    gt_sum = hist.sum(dim=1)                 \n",
    "    pr_sum = hist.sum(dim=0)                 \n",
    "    union = gt_sum + pr_sum - inter\n",
    "\n",
    "    iou_per_class = inter / (union + 1e-8)\n",
    "   \n",
    "    valid_cls = gt_sum > 0\n",
    "    if valid_cls.any():\n",
    "        miou = iou_per_class[valid_cls].mean()\n",
    "    else:\n",
    "        miou = torch.tensor(0.0, device=logits.device)\n",
    "\n",
    "    return miou, iou_per_class\n",
    "\n",
    "FN_ACC = functools.partial(mean_iou, num_classes=NUM_CLASSES, ignore_index=IGNORE_INDEX)\n",
    "\n",
    "LR = 3e-4\n",
    "optimizer = torch.optim.AdamW(\n",
    "    model.parameters(),\n",
    "    lr=LR,\n",
    "    weight_decay=1e-2,          \n",
    "    betas=(0.9, 0.999)\n",
    ")\n",
    "\n",
    "NUM_EPOCHS = 60\n",
    "scheduler = CosineAnnealingLR(optimizer, T_max=NUM_EPOCHS, eta_min=1e-6)\n",
    "\n",
    "print(\"Модель: Unet++(resnet50, 6ch, с нуля), Weighted CrossEntropy(ignore_index), AdamW + CosineAnnealingLR.\")"
   ]
  },
  {
   "cell_type": "code",
   "execution_count": null,
   "metadata": {
    "_cell_guid": "4c41bbcd-5191-4252-9557-fbf1a56743d2",
    "_uuid": "a2efa3c9-d5e0-48b3-87eb-0fd88c26436e",
    "collapsed": false,
    "execution": {
     "iopub.execute_input": "2025-09-12T21:07:28.857819Z",
     "iopub.status.busy": "2025-09-12T21:07:28.857207Z",
     "iopub.status.idle": "2025-09-12T21:07:28.878103Z",
     "shell.execute_reply": "2025-09-12T21:07:28.877294Z",
     "shell.execute_reply.started": "2025-09-12T21:07:28.857767Z"
    },
    "jupyter": {
     "outputs_hidden": false
    },
    "trusted": true
   },
   "outputs": [],
   "source": [
    "def Trainer(\n",
    "    model,\n",
    "    num_classes,\n",
    "    optimizer,\n",
    "    loss_fn,\n",
    "    acc_fn,                  \n",
    "    epochs,\n",
    "    data_tr,\n",
    "    data_val,\n",
    "    scheduler=None,\n",
    "    use_amp=True,\n",
    "    grad_clip=1.0,\n",
    "    accumulate_steps=1,\n",
    "    best_ckpt_path=\"best.pt\",\n",
    "):\n",
    "    \n",
    "    scaler = torch.amp.GradScaler(\"cuda\", enabled=(use_amp and DEVICE.type == \"cuda\"))\n",
    "    history = []\n",
    "    best_val_miou = -1.0\n",
    "\n",
    "    def _confusion_from_logits(logits, target, C, ignore_index=IGNORE_INDEX):\n",
    "        with torch.no_grad():\n",
    "            pred = torch.argmax(logits, dim=1) \n",
    "            valid = (target >= 0) & (target < C)\n",
    "            if ignore_index is not None:\n",
    "                valid = valid & (target != ignore_index)\n",
    "\n",
    "            if valid.sum() == 0:\n",
    "                return torch.zeros(C, C, device=logits.device, dtype=torch.float32), 0\n",
    "\n",
    "            t = target[valid].reshape(-1).to(torch.int64)\n",
    "            p = pred[valid].reshape(-1).to(torch.int64)\n",
    "            hist = torch.bincount(C * t + p, minlength=C * C).reshape(C, C).to(torch.float32)\n",
    "            return hist, int(valid.sum())\n",
    "\n",
    "    def _fmt_per_class(vec):\n",
    "        vals = [float(x) for x in vec.detach().cpu()]\n",
    "        return \", \".join([f\"C{i}:{v:.4f}\" for i, v in enumerate(vals)])\n",
    "\n",
    "    for epoch in range(epochs):\n",
    "        model.train()\n",
    "        running_train_loss = 0.0\n",
    "\n",
    "        train_hist_epoch = torch.zeros(num_classes, num_classes, device=DEVICE, dtype=torch.float32)\n",
    "        train_valid_pix = 0\n",
    "\n",
    "        optimizer.zero_grad(set_to_none=True)\n",
    "        stream = tqdm(data_tr, desc=f\"Epoch {epoch + 1}/{epochs} [Train]\", leave=False)\n",
    "\n",
    "        for step, (X_batch, Y_batch) in enumerate(stream, 1):\n",
    "            X_batch = X_batch.to(DEVICE, non_blocking=True)\n",
    "            Y_batch = Y_batch.to(DEVICE, non_blocking=True)\n",
    "\n",
    "            with torch.amp.autocast(\"cuda\", enabled=(use_amp and DEVICE.type == \"cuda\")):\n",
    "                logits = model(X_batch)\n",
    "                loss = loss_fn(logits, Y_batch)\n",
    "\n",
    "            scaler.scale(loss).backward()\n",
    "\n",
    "            if step % accumulate_steps == 0:\n",
    "                if grad_clip and grad_clip > 0:\n",
    "                    scaler.unscale_(optimizer)\n",
    "                    nn.utils.clip_grad_norm_(model.parameters(), max_norm=grad_clip)\n",
    "                scaler.step(optimizer)\n",
    "                scaler.update()\n",
    "                optimizer.zero_grad(set_to_none=True)\n",
    "\n",
    "            running_train_loss += loss.item()\n",
    "\n",
    "       \n",
    "            avg_iou_batch, _ = acc_fn(logits, Y_batch)\n",
    "            stream.set_postfix(\n",
    "                Loss=f\"{running_train_loss / step:.4f}\",\n",
    "                mIoU=f\"{float(avg_iou_batch):.4f}\"\n",
    "            )\n",
    "\n",
    "          \n",
    "            hist_b, valid_pix_b = _confusion_from_logits(logits, Y_batch, num_classes)\n",
    "            train_hist_epoch += hist_b\n",
    "            train_valid_pix  += valid_pix_b\n",
    "\n",
    "        inter = torch.diag(train_hist_epoch)\n",
    "        gt_sum = train_hist_epoch.sum(dim=1)\n",
    "        pr_sum = train_hist_epoch.sum(dim=0)\n",
    "        union = gt_sum + pr_sum - inter\n",
    "        train_iou_per_class = inter / (union + 1e-8)\n",
    "        present_cls = gt_sum > 0\n",
    "        train_miou = train_iou_per_class[present_cls].mean() if present_cls.any() \\\n",
    "                     else torch.tensor(0.0, device=DEVICE)\n",
    "\n",
    "        model.eval()\n",
    "        running_val_loss = 0.0\n",
    "        val_hist_epoch = torch.zeros(num_classes, num_classes, device=DEVICE, dtype=torch.float32)\n",
    "        val_valid_pix = 0\n",
    "\n",
    "        with torch.no_grad():\n",
    "            stream = tqdm(data_val, desc=f\"Epoch {epoch + 1}/{epochs} [Valid]\", leave=False)\n",
    "            for step, (X_val, Y_val) in enumerate(stream, 1):\n",
    "                X_val = X_val.to(DEVICE, non_blocking=True)\n",
    "                Y_val = Y_val.to(DEVICE, non_blocking=True)\n",
    "\n",
    "                with torch.amp.autocast(\"cuda\", enabled=(use_amp and DEVICE.type == \"cuda\")):\n",
    "                    Y_hat = model(X_val)\n",
    "                    loss  = loss_fn(Y_hat, Y_val)\n",
    "\n",
    "                running_val_loss += loss.item()\n",
    "\n",
    "                avg_iou_batch, _ = acc_fn(Y_hat, Y_val)\n",
    "                stream.set_postfix(\n",
    "                    Loss=f\"{running_val_loss / step:.4f}\",\n",
    "                    mIoU=f\"{float(avg_iou_batch):.4f}\"\n",
    "                )\n",
    "\n",
    "                hist_b, valid_pix_b = _confusion_from_logits(Y_hat, Y_val, num_classes)\n",
    "                val_hist_epoch += hist_b\n",
    "                val_valid_pix  += valid_pix_b\n",
    "\n",
    "        inter_v = torch.diag(val_hist_epoch)\n",
    "        gt_sum_v = val_hist_epoch.sum(dim=1)\n",
    "        pr_sum_v = val_hist_epoch.sum(dim=0)\n",
    "        union_v = gt_sum_v + pr_sum_v - inter_v\n",
    "        val_iou_per_class = inter_v / (union_v + 1e-8)\n",
    "        present_cls_v = gt_sum_v > 0\n",
    "        val_miou = val_iou_per_class[present_cls_v].mean() if present_cls_v.any() \\\n",
    "                   else torch.tensor(0.0, device=DEVICE)\n",
    "\n",
    "\n",
    "        lr = optimizer.param_groups[0][\"lr\"]\n",
    "        epoch_rec = {\n",
    "            \"epoch\": epoch + 1,\n",
    "            \"lr\": lr,\n",
    "            \"train_loss\": running_train_loss / max(len(data_tr), 1),\n",
    "            \"train_miou\": float(train_miou),\n",
    "            \"train_iou_per_class\": train_iou_per_class.detach().cpu().tolist(),\n",
    "            \"train_valid_pixels\": int(train_valid_pix),\n",
    "            \"val_loss\": running_val_loss / max(len(data_val), 1),\n",
    "            \"val_miou\": float(val_miou),\n",
    "            \"val_iou_per_class\": val_iou_per_class.detach().cpu().tolist(),\n",
    "            \"val_valid_pixels\": int(val_valid_pix),\n",
    "        }\n",
    "        history.append(epoch_rec)\n",
    "\n",
    "        print(\n",
    "            f\"[Per-class IoU] \"\n",
    "            f\"Train: [{_fmt_per_class(train_iou_per_class)}] | \"\n",
    "            f\"Val:   [{_fmt_per_class(val_iou_per_class)}]\"\n",
    "        )\n",
    "\n",
    "        if scheduler is not None:\n",
    "            scheduler.step()\n",
    "\n",
    "        if float(val_miou) > best_val_miou:\n",
    "            best_val_miou = float(val_miou)\n",
    "            if best_ckpt_path:\n",
    "                torch.save(\n",
    "                    {\n",
    "                        \"epoch\": epoch + 1,\n",
    "                        \"model_state\": model.state_dict(),\n",
    "                        \"optimizer_state\": optimizer.state_dict(),\n",
    "                        \"scheduler_state\": scheduler.state_dict() if scheduler is not None else None,\n",
    "                        \"val_miou\": best_val_miou,\n",
    "                        \"class_iou\": val_iou_per_class.detach().cpu().tolist(),\n",
    "                    },\n",
    "                    best_ckpt_path,\n",
    "                )\n",
    "\n",
    "      \n",
    "        print(\n",
    "            f\"Epoch {epoch + 1}/{epochs} | \"\n",
    "            f\"LR {lr:.2e} | \"\n",
    "            f\"Train: loss {epoch_rec['train_loss']:.4f}, mIoU {epoch_rec['train_miou']:.4f} | \"\n",
    "            f\"Val: loss {epoch_rec['val_loss']:.4f}, mIoU {epoch_rec['val_miou']:.4f}\"\n",
    "        )\n",
    "\n",
    "    return history"
   ]
  },
  {
   "cell_type": "code",
   "execution_count": null,
   "metadata": {
    "execution": {
     "iopub.execute_input": "2025-09-12T21:07:34.636170Z",
     "iopub.status.busy": "2025-09-12T21:07:34.635881Z",
     "iopub.status.idle": "2025-09-12T21:07:34.648629Z",
     "shell.execute_reply": "2025-09-12T21:07:34.648024Z",
     "shell.execute_reply.started": "2025-09-12T21:07:34.636147Z"
    },
    "trusted": true
   },
   "outputs": [
    {
     "name": "stdout",
     "output_type": "stream",
     "text": [
      "Параметры модели сброшены\n"
     ]
    }
   ],
   "source": [
    "def reset_module(m):\n",
    "    if hasattr(m, 'reset_parameters') and callable(m.reset_parameters):\n",
    "        m.reset_parameters()\n",
    "\n",
    "model.apply(reset_module)\n",
    "print(\"Параметры модели сброшены\")"
   ]
  },
  {
   "cell_type": "code",
   "execution_count": null,
   "metadata": {
    "_cell_guid": "3fc7f475-1fe5-4ac7-8d9a-d5a3fe95c905",
    "_uuid": "77c0a3f8-cd67-41a1-b25d-571c617f39d4",
    "execution": {
     "iopub.execute_input": "2025-09-12T21:07:43.958095Z",
     "iopub.status.busy": "2025-09-12T21:07:43.957762Z",
     "iopub.status.idle": "2025-09-12T21:29:35.525698Z",
     "shell.execute_reply": "2025-09-12T21:29:35.524833Z",
     "shell.execute_reply.started": "2025-09-12T21:07:43.958074Z"
    },
    "trusted": true
   },
   "outputs": [
    {
     "name": "stderr",
     "output_type": "stream",
     "text": [
      "                                                                                             \r"
     ]
    },
    {
     "name": "stdout",
     "output_type": "stream",
     "text": [
      "[Per-class IoU] Train: [C0:0.8045, C1:0.6697, C2:0.2836] | Val:   [C0:0.7765, C1:0.4948, C2:0.0503]\n",
      "Epoch 1/60 | LR 3.00e-04 | Train: loss 0.6107, mIoU 0.5860 | Val: loss 0.8373, mIoU 0.4405\n"
     ]
    },
    {
     "name": "stderr",
     "output_type": "stream",
     "text": [
      "                                                                                             \r"
     ]
    },
    {
     "name": "stdout",
     "output_type": "stream",
     "text": [
      "[Per-class IoU] Train: [C0:0.8748, C1:0.7262, C2:0.4605] | Val:   [C0:0.8670, C1:0.6620, C2:0.3382]\n",
      "Epoch 2/60 | LR 3.00e-04 | Train: loss 0.3989, mIoU 0.6872 | Val: loss 0.4567, mIoU 0.6224\n"
     ]
    },
    {
     "name": "stderr",
     "output_type": "stream",
     "text": [
      "                                                                                             \r"
     ]
    },
    {
     "name": "stdout",
     "output_type": "stream",
     "text": [
      "[Per-class IoU] Train: [C0:0.8851, C1:0.7371, C2:0.5070] | Val:   [C0:0.8800, C1:0.4833, C2:0.2245]\n",
      "Epoch 3/60 | LR 2.99e-04 | Train: loss 0.3601, mIoU 0.7097 | Val: loss 0.5160, mIoU 0.5293\n"
     ]
    },
    {
     "name": "stderr",
     "output_type": "stream",
     "text": [
      "                                                                                             \r"
     ]
    },
    {
     "name": "stdout",
     "output_type": "stream",
     "text": [
      "[Per-class IoU] Train: [C0:0.8801, C1:0.7320, C2:0.5077] | Val:   [C0:0.8511, C1:0.7001, C2:0.4931]\n",
      "Epoch 4/60 | LR 2.98e-04 | Train: loss 0.3278, mIoU 0.7066 | Val: loss 0.3291, mIoU 0.6815\n"
     ]
    },
    {
     "name": "stderr",
     "output_type": "stream",
     "text": [
      "                                                                                             \r"
     ]
    },
    {
     "name": "stdout",
     "output_type": "stream",
     "text": [
      "[Per-class IoU] Train: [C0:0.8975, C1:0.7475, C2:0.4942] | Val:   [C0:0.8583, C1:0.7466, C2:0.5263]\n",
      "Epoch 5/60 | LR 2.97e-04 | Train: loss 0.3003, mIoU 0.7131 | Val: loss 0.2862, mIoU 0.7104\n"
     ]
    },
    {
     "name": "stderr",
     "output_type": "stream",
     "text": [
      "                                                                                             \r"
     ]
    },
    {
     "name": "stdout",
     "output_type": "stream",
     "text": [
      "[Per-class IoU] Train: [C0:0.9034, C1:0.7754, C2:0.5687] | Val:   [C0:0.8629, C1:0.7562, C2:0.6593]\n",
      "Epoch 6/60 | LR 2.95e-04 | Train: loss 0.2763, mIoU 0.7492 | Val: loss 0.2679, mIoU 0.7595\n"
     ]
    },
    {
     "name": "stderr",
     "output_type": "stream",
     "text": [
      "                                                                                             \r"
     ]
    },
    {
     "name": "stdout",
     "output_type": "stream",
     "text": [
      "[Per-class IoU] Train: [C0:0.9060, C1:0.7747, C2:0.5404] | Val:   [C0:0.8965, C1:0.7864, C2:0.6141]\n",
      "Epoch 7/60 | LR 2.93e-04 | Train: loss 0.2701, mIoU 0.7404 | Val: loss 0.2370, mIoU 0.7656\n"
     ]
    },
    {
     "name": "stderr",
     "output_type": "stream",
     "text": [
      "                                                                                             \r"
     ]
    },
    {
     "name": "stdout",
     "output_type": "stream",
     "text": [
      "[Per-class IoU] Train: [C0:0.9080, C1:0.7841, C2:0.5763] | Val:   [C0:0.8994, C1:0.7926, C2:0.6766]\n",
      "Epoch 8/60 | LR 2.90e-04 | Train: loss 0.2521, mIoU 0.7561 | Val: loss 0.2200, mIoU 0.7895\n"
     ]
    },
    {
     "name": "stderr",
     "output_type": "stream",
     "text": [
      "                                                                                             \r"
     ]
    },
    {
     "name": "stdout",
     "output_type": "stream",
     "text": [
      "[Per-class IoU] Train: [C0:0.8979, C1:0.7720, C2:0.5827] | Val:   [C0:0.8813, C1:0.7674, C2:0.5582]\n",
      "Epoch 9/60 | LR 2.87e-04 | Train: loss 0.2696, mIoU 0.7508 | Val: loss 0.2372, mIoU 0.7356\n"
     ]
    },
    {
     "name": "stderr",
     "output_type": "stream",
     "text": [
      "                                                                                              \r"
     ]
    },
    {
     "name": "stdout",
     "output_type": "stream",
     "text": [
      "[Per-class IoU] Train: [C0:0.9070, C1:0.7835, C2:0.5589] | Val:   [C0:0.8910, C1:0.7301, C2:0.4816]\n",
      "Epoch 10/60 | LR 2.84e-04 | Train: loss 0.2738, mIoU 0.7498 | Val: loss 0.3050, mIoU 0.7009\n"
     ]
    },
    {
     "name": "stderr",
     "output_type": "stream",
     "text": [
      "                                                                                              \r"
     ]
    },
    {
     "name": "stdout",
     "output_type": "stream",
     "text": [
      "[Per-class IoU] Train: [C0:0.9071, C1:0.7926, C2:0.6013] | Val:   [C0:0.8786, C1:0.7736, C2:0.7299]\n",
      "Epoch 11/60 | LR 2.80e-04 | Train: loss 0.2387, mIoU 0.7670 | Val: loss 0.2389, mIoU 0.7940\n"
     ]
    },
    {
     "name": "stderr",
     "output_type": "stream",
     "text": [
      "                                                                                              \r"
     ]
    },
    {
     "name": "stdout",
     "output_type": "stream",
     "text": [
      "[Per-class IoU] Train: [C0:0.9129, C1:0.8099, C2:0.6200] | Val:   [C0:0.8995, C1:0.7762, C2:0.6103]\n",
      "Epoch 12/60 | LR 2.76e-04 | Train: loss 0.2068, mIoU 0.7809 | Val: loss 0.2132, mIoU 0.7620\n"
     ]
    },
    {
     "name": "stderr",
     "output_type": "stream",
     "text": [
      "                                                                                              \r"
     ]
    },
    {
     "name": "stdout",
     "output_type": "stream",
     "text": [
      "[Per-class IoU] Train: [C0:0.9164, C1:0.8215, C2:0.7023] | Val:   [C0:0.9168, C1:0.8198, C2:0.7532]\n",
      "Epoch 13/60 | LR 2.71e-04 | Train: loss 0.1846, mIoU 0.8134 | Val: loss 0.1929, mIoU 0.8300\n"
     ]
    },
    {
     "name": "stderr",
     "output_type": "stream",
     "text": [
      "                                                                                              \r"
     ]
    },
    {
     "name": "stdout",
     "output_type": "stream",
     "text": [
      "[Per-class IoU] Train: [C0:0.9202, C1:0.8224, C2:0.6895] | Val:   [C0:0.9016, C1:0.8093, C2:0.7588]\n",
      "Epoch 14/60 | LR 2.67e-04 | Train: loss 0.2059, mIoU 0.8107 | Val: loss 0.2082, mIoU 0.8233\n"
     ]
    },
    {
     "name": "stderr",
     "output_type": "stream",
     "text": [
      "                                                                                              \r"
     ]
    },
    {
     "name": "stdout",
     "output_type": "stream",
     "text": [
      "[Per-class IoU] Train: [C0:0.9167, C1:0.8114, C2:0.6075] | Val:   [C0:0.9005, C1:0.7959, C2:0.6946]\n",
      "Epoch 15/60 | LR 2.62e-04 | Train: loss 0.2068, mIoU 0.7785 | Val: loss 0.1980, mIoU 0.7970\n"
     ]
    },
    {
     "name": "stderr",
     "output_type": "stream",
     "text": [
      "                                                                                              \r"
     ]
    },
    {
     "name": "stdout",
     "output_type": "stream",
     "text": [
      "[Per-class IoU] Train: [C0:0.9128, C1:0.8147, C2:0.6912] | Val:   [C0:0.9047, C1:0.7982, C2:0.6187]\n",
      "Epoch 16/60 | LR 2.56e-04 | Train: loss 0.1733, mIoU 0.8062 | Val: loss 0.1649, mIoU 0.7739\n"
     ]
    },
    {
     "name": "stderr",
     "output_type": "stream",
     "text": [
      "                                                                                              \r"
     ]
    },
    {
     "name": "stdout",
     "output_type": "stream",
     "text": [
      "[Per-class IoU] Train: [C0:0.9182, C1:0.8305, C2:0.7318] | Val:   [C0:0.8943, C1:0.7993, C2:0.7940]\n",
      "Epoch 17/60 | LR 2.51e-04 | Train: loss 0.1597, mIoU 0.8268 | Val: loss 0.1750, mIoU 0.8292\n"
     ]
    },
    {
     "name": "stderr",
     "output_type": "stream",
     "text": [
      "                                                                                              \r"
     ]
    },
    {
     "name": "stdout",
     "output_type": "stream",
     "text": [
      "[Per-class IoU] Train: [C0:0.9210, C1:0.8364, C2:0.7394] | Val:   [C0:0.9071, C1:0.8063, C2:0.7204]\n",
      "Epoch 18/60 | LR 2.45e-04 | Train: loss 0.1635, mIoU 0.8323 | Val: loss 0.1773, mIoU 0.8113\n"
     ]
    },
    {
     "name": "stderr",
     "output_type": "stream",
     "text": [
      "                                                                                              \r"
     ]
    },
    {
     "name": "stdout",
     "output_type": "stream",
     "text": [
      "[Per-class IoU] Train: [C0:0.9258, C1:0.8450, C2:0.7541] | Val:   [C0:0.8963, C1:0.7788, C2:0.5849]\n",
      "Epoch 19/60 | LR 2.38e-04 | Train: loss 0.1340, mIoU 0.8417 | Val: loss 0.2086, mIoU 0.7533\n"
     ]
    },
    {
     "name": "stderr",
     "output_type": "stream",
     "text": [
      "                                                                                              \r"
     ]
    },
    {
     "name": "stdout",
     "output_type": "stream",
     "text": [
      "[Per-class IoU] Train: [C0:0.9236, C1:0.8417, C2:0.7504] | Val:   [C0:0.8790, C1:0.7156, C2:0.7690]\n",
      "Epoch 20/60 | LR 2.32e-04 | Train: loss 0.1502, mIoU 0.8385 | Val: loss 0.3125, mIoU 0.7878\n"
     ]
    },
    {
     "name": "stderr",
     "output_type": "stream",
     "text": [
      "                                                                                              \r"
     ]
    },
    {
     "name": "stdout",
     "output_type": "stream",
     "text": [
      "[Per-class IoU] Train: [C0:0.9239, C1:0.8447, C2:0.7532] | Val:   [C0:0.9033, C1:0.8167, C2:0.8100]\n",
      "Epoch 21/60 | LR 2.25e-04 | Train: loss 0.1357, mIoU 0.8406 | Val: loss 0.1607, mIoU 0.8433\n"
     ]
    },
    {
     "name": "stderr",
     "output_type": "stream",
     "text": [
      "                                                                                              \r"
     ]
    },
    {
     "name": "stdout",
     "output_type": "stream",
     "text": [
      "[Per-class IoU] Train: [C0:0.9285, C1:0.8515, C2:0.7843] | Val:   [C0:0.9180, C1:0.8415, C2:0.8159]\n",
      "Epoch 22/60 | LR 2.18e-04 | Train: loss 0.1236, mIoU 0.8548 | Val: loss 0.1582, mIoU 0.8585\n"
     ]
    },
    {
     "name": "stderr",
     "output_type": "stream",
     "text": [
      "                                                                                              \r"
     ]
    },
    {
     "name": "stdout",
     "output_type": "stream",
     "text": [
      "[Per-class IoU] Train: [C0:0.9321, C1:0.8618, C2:0.8146] | Val:   [C0:0.8983, C1:0.8093, C2:0.7641]\n",
      "Epoch 23/60 | LR 2.11e-04 | Train: loss 0.1083, mIoU 0.8695 | Val: loss 0.1498, mIoU 0.8239\n"
     ]
    },
    {
     "name": "stderr",
     "output_type": "stream",
     "text": [
      "                                                                                              \r"
     ]
    },
    {
     "name": "stdout",
     "output_type": "stream",
     "text": [
      "[Per-class IoU] Train: [C0:0.9332, C1:0.8649, C2:0.8105] | Val:   [C0:0.9278, C1:0.8483, C2:0.8366]\n",
      "Epoch 24/60 | LR 2.04e-04 | Train: loss 0.1072, mIoU 0.8695 | Val: loss 0.1441, mIoU 0.8709\n"
     ]
    },
    {
     "name": "stderr",
     "output_type": "stream",
     "text": [
      "                                                                                              \r"
     ]
    },
    {
     "name": "stdout",
     "output_type": "stream",
     "text": [
      "[Per-class IoU] Train: [C0:0.9335, C1:0.8614, C2:0.8135] | Val:   [C0:0.9061, C1:0.7922, C2:0.8374]\n",
      "Epoch 25/60 | LR 1.97e-04 | Train: loss 0.1097, mIoU 0.8695 | Val: loss 0.2092, mIoU 0.8453\n"
     ]
    },
    {
     "name": "stderr",
     "output_type": "stream",
     "text": [
      "                                                                                              \r"
     ]
    },
    {
     "name": "stdout",
     "output_type": "stream",
     "text": [
      "[Per-class IoU] Train: [C0:0.9378, C1:0.8736, C2:0.8214] | Val:   [C0:0.9192, C1:0.8416, C2:0.8040]\n",
      "Epoch 26/60 | LR 1.89e-04 | Train: loss 0.1008, mIoU 0.8776 | Val: loss 0.1204, mIoU 0.8549\n"
     ]
    },
    {
     "name": "stderr",
     "output_type": "stream",
     "text": [
      "                                                                                              \r"
     ]
    },
    {
     "name": "stdout",
     "output_type": "stream",
     "text": [
      "[Per-class IoU] Train: [C0:0.9374, C1:0.8717, C2:0.8291] | Val:   [C0:0.8949, C1:0.7640, C2:0.8461]\n",
      "Epoch 27/60 | LR 1.82e-04 | Train: loss 0.0997, mIoU 0.8794 | Val: loss 0.2270, mIoU 0.8350\n"
     ]
    },
    {
     "name": "stderr",
     "output_type": "stream",
     "text": [
      "                                                                                              \r"
     ]
    },
    {
     "name": "stdout",
     "output_type": "stream",
     "text": [
      "[Per-class IoU] Train: [C0:0.9381, C1:0.8715, C2:0.8231] | Val:   [C0:0.8960, C1:0.8075, C2:0.8065]\n",
      "Epoch 28/60 | LR 1.74e-04 | Train: loss 0.1030, mIoU 0.8776 | Val: loss 0.1734, mIoU 0.8367\n"
     ]
    },
    {
     "name": "stderr",
     "output_type": "stream",
     "text": [
      "                                                                                              \r"
     ]
    },
    {
     "name": "stdout",
     "output_type": "stream",
     "text": [
      "[Per-class IoU] Train: [C0:0.9404, C1:0.8784, C2:0.8391] | Val:   [C0:0.9222, C1:0.8480, C2:0.8555]\n",
      "Epoch 29/60 | LR 1.66e-04 | Train: loss 0.0934, mIoU 0.8859 | Val: loss 0.1243, mIoU 0.8752\n"
     ]
    },
    {
     "name": "stderr",
     "output_type": "stream",
     "text": [
      "                                                                                              \r"
     ]
    },
    {
     "name": "stdout",
     "output_type": "stream",
     "text": [
      "[Per-class IoU] Train: [C0:0.9456, C1:0.8889, C2:0.8617] | Val:   [C0:0.9275, C1:0.8565, C2:0.8455]\n",
      "Epoch 30/60 | LR 1.58e-04 | Train: loss 0.0805, mIoU 0.8987 | Val: loss 0.1093, mIoU 0.8765\n"
     ]
    },
    {
     "name": "stderr",
     "output_type": "stream",
     "text": [
      "                                                                                              \r"
     ]
    },
    {
     "name": "stdout",
     "output_type": "stream",
     "text": [
      "[Per-class IoU] Train: [C0:0.9451, C1:0.8876, C2:0.8706] | Val:   [C0:0.9400, C1:0.8733, C2:0.8411]\n",
      "Epoch 31/60 | LR 1.50e-04 | Train: loss 0.0859, mIoU 0.9011 | Val: loss 0.1116, mIoU 0.8848\n"
     ]
    },
    {
     "name": "stderr",
     "output_type": "stream",
     "text": [
      "                                                                                              \r"
     ]
    },
    {
     "name": "stdout",
     "output_type": "stream",
     "text": [
      "[Per-class IoU] Train: [C0:0.9488, C1:0.8915, C2:0.8826] | Val:   [C0:0.9390, C1:0.8767, C2:0.8559]\n",
      "Epoch 32/60 | LR 1.43e-04 | Train: loss 0.0801, mIoU 0.9076 | Val: loss 0.0919, mIoU 0.8905\n"
     ]
    },
    {
     "name": "stderr",
     "output_type": "stream",
     "text": [
      "                                                                                              \r"
     ]
    },
    {
     "name": "stdout",
     "output_type": "stream",
     "text": [
      "[Per-class IoU] Train: [C0:0.9498, C1:0.8964, C2:0.8816] | Val:   [C0:0.9440, C1:0.8819, C2:0.8427]\n",
      "Epoch 33/60 | LR 1.35e-04 | Train: loss 0.0741, mIoU 0.9093 | Val: loss 0.1250, mIoU 0.8895\n"
     ]
    },
    {
     "name": "stderr",
     "output_type": "stream",
     "text": [
      "                                                                                              \r"
     ]
    },
    {
     "name": "stdout",
     "output_type": "stream",
     "text": [
      "[Per-class IoU] Train: [C0:0.9520, C1:0.9015, C2:0.8882] | Val:   [C0:0.9435, C1:0.8843, C2:0.8819]\n",
      "Epoch 34/60 | LR 1.27e-04 | Train: loss 0.0715, mIoU 0.9139 | Val: loss 0.1020, mIoU 0.9032\n"
     ]
    },
    {
     "name": "stderr",
     "output_type": "stream",
     "text": [
      "                                                                                              \r"
     ]
    },
    {
     "name": "stdout",
     "output_type": "stream",
     "text": [
      "[Per-class IoU] Train: [C0:0.9546, C1:0.9052, C2:0.9018] | Val:   [C0:0.9448, C1:0.8883, C2:0.8933]\n",
      "Epoch 35/60 | LR 1.19e-04 | Train: loss 0.0645, mIoU 0.9206 | Val: loss 0.0937, mIoU 0.9088\n"
     ]
    },
    {
     "name": "stderr",
     "output_type": "stream",
     "text": [
      "                                                                                              \r"
     ]
    },
    {
     "name": "stdout",
     "output_type": "stream",
     "text": [
      "[Per-class IoU] Train: [C0:0.9546, C1:0.9048, C2:0.8988] | Val:   [C0:0.9512, C1:0.8938, C2:0.8947]\n",
      "Epoch 36/60 | LR 1.12e-04 | Train: loss 0.0663, mIoU 0.9194 | Val: loss 0.1142, mIoU 0.9132\n"
     ]
    },
    {
     "name": "stderr",
     "output_type": "stream",
     "text": [
      "                                                                                              \r"
     ]
    },
    {
     "name": "stdout",
     "output_type": "stream",
     "text": [
      "[Per-class IoU] Train: [C0:0.9553, C1:0.9073, C2:0.9064] | Val:   [C0:0.9514, C1:0.8976, C2:0.8900]\n",
      "Epoch 37/60 | LR 1.04e-04 | Train: loss 0.0625, mIoU 0.9230 | Val: loss 0.0911, mIoU 0.9130\n"
     ]
    },
    {
     "name": "stderr",
     "output_type": "stream",
     "text": [
      "                                                                                              \r"
     ]
    },
    {
     "name": "stdout",
     "output_type": "stream",
     "text": [
      "[Per-class IoU] Train: [C0:0.9612, C1:0.9184, C2:0.9190] | Val:   [C0:0.9558, C1:0.9076, C2:0.9037]\n",
      "Epoch 38/60 | LR 9.69e-05 | Train: loss 0.0548, mIoU 0.9329 | Val: loss 0.0817, mIoU 0.9223\n"
     ]
    },
    {
     "name": "stderr",
     "output_type": "stream",
     "text": [
      "                                                                                              \r"
     ]
    },
    {
     "name": "stdout",
     "output_type": "stream",
     "text": [
      "[Per-class IoU] Train: [C0:0.9626, C1:0.9212, C2:0.9158] | Val:   [C0:0.9532, C1:0.9019, C2:0.9032]\n",
      "Epoch 39/60 | LR 8.97e-05 | Train: loss 0.0541, mIoU 0.9332 | Val: loss 0.0936, mIoU 0.9195\n"
     ]
    },
    {
     "name": "stderr",
     "output_type": "stream",
     "text": [
      "                                                                                              \r"
     ]
    },
    {
     "name": "stdout",
     "output_type": "stream",
     "text": [
      "[Per-class IoU] Train: [C0:0.9643, C1:0.9238, C2:0.9285] | Val:   [C0:0.9513, C1:0.8983, C2:0.8776]\n",
      "Epoch 40/60 | LR 8.26e-05 | Train: loss 0.0504, mIoU 0.9389 | Val: loss 0.0936, mIoU 0.9090\n"
     ]
    },
    {
     "name": "stderr",
     "output_type": "stream",
     "text": [
      "                                                                                              \r"
     ]
    },
    {
     "name": "stdout",
     "output_type": "stream",
     "text": [
      "[Per-class IoU] Train: [C0:0.9651, C1:0.9254, C2:0.9297] | Val:   [C0:0.9587, C1:0.9121, C2:0.9047]\n",
      "Epoch 41/60 | LR 7.58e-05 | Train: loss 0.0490, mIoU 0.9401 | Val: loss 0.0962, mIoU 0.9251\n"
     ]
    },
    {
     "name": "stderr",
     "output_type": "stream",
     "text": [
      "                                                                                              \r"
     ]
    },
    {
     "name": "stdout",
     "output_type": "stream",
     "text": [
      "[Per-class IoU] Train: [C0:0.9667, C1:0.9295, C2:0.9257] | Val:   [C0:0.9617, C1:0.9149, C2:0.9044]\n",
      "Epoch 42/60 | LR 6.91e-05 | Train: loss 0.0532, mIoU 0.9407 | Val: loss 0.0996, mIoU 0.9270\n"
     ]
    },
    {
     "name": "stderr",
     "output_type": "stream",
     "text": [
      "                                                                                              \r"
     ]
    },
    {
     "name": "stdout",
     "output_type": "stream",
     "text": [
      "[Per-class IoU] Train: [C0:0.9688, C1:0.9326, C2:0.9332] | Val:   [C0:0.9638, C1:0.9214, C2:0.9101]\n",
      "Epoch 43/60 | LR 6.26e-05 | Train: loss 0.0451, mIoU 0.9449 | Val: loss 0.0963, mIoU 0.9318\n"
     ]
    },
    {
     "name": "stderr",
     "output_type": "stream",
     "text": [
      "                                                                                              \r"
     ]
    },
    {
     "name": "stdout",
     "output_type": "stream",
     "text": [
      "[Per-class IoU] Train: [C0:0.9694, C1:0.9339, C2:0.9353] | Val:   [C0:0.9625, C1:0.9202, C2:0.9031]\n",
      "Epoch 44/60 | LR 5.64e-05 | Train: loss 0.0435, mIoU 0.9462 | Val: loss 0.0946, mIoU 0.9286\n"
     ]
    },
    {
     "name": "stderr",
     "output_type": "stream",
     "text": [
      "                                                                                              \r"
     ]
    },
    {
     "name": "stdout",
     "output_type": "stream",
     "text": [
      "[Per-class IoU] Train: [C0:0.9710, C1:0.9370, C2:0.9382] | Val:   [C0:0.9532, C1:0.9030, C2:0.8989]\n",
      "Epoch 45/60 | LR 5.05e-05 | Train: loss 0.0409, mIoU 0.9488 | Val: loss 0.0970, mIoU 0.9184\n"
     ]
    },
    {
     "name": "stderr",
     "output_type": "stream",
     "text": [
      "                                                                                              \r"
     ]
    },
    {
     "name": "stdout",
     "output_type": "stream",
     "text": [
      "[Per-class IoU] Train: [C0:0.9715, C1:0.9386, C2:0.9424] | Val:   [C0:0.9623, C1:0.9196, C2:0.9016]\n",
      "Epoch 46/60 | LR 4.48e-05 | Train: loss 0.0406, mIoU 0.9508 | Val: loss 0.0920, mIoU 0.9278\n"
     ]
    },
    {
     "name": "stderr",
     "output_type": "stream",
     "text": [
      "                                                                                              \r"
     ]
    },
    {
     "name": "stdout",
     "output_type": "stream",
     "text": [
      "[Per-class IoU] Train: [C0:0.9727, C1:0.9409, C2:0.9397] | Val:   [C0:0.9612, C1:0.9180, C2:0.9047]\n",
      "Epoch 47/60 | LR 3.94e-05 | Train: loss 0.0404, mIoU 0.9511 | Val: loss 0.1000, mIoU 0.9280\n"
     ]
    },
    {
     "name": "stderr",
     "output_type": "stream",
     "text": [
      "                                                                                              \r"
     ]
    },
    {
     "name": "stdout",
     "output_type": "stream",
     "text": [
      "[Per-class IoU] Train: [C0:0.9732, C1:0.9423, C2:0.9424] | Val:   [C0:0.9673, C1:0.9290, C2:0.9039]\n",
      "Epoch 48/60 | LR 3.43e-05 | Train: loss 0.0376, mIoU 0.9527 | Val: loss 0.0903, mIoU 0.9334\n"
     ]
    },
    {
     "name": "stderr",
     "output_type": "stream",
     "text": [
      "                                                                                              \r"
     ]
    },
    {
     "name": "stdout",
     "output_type": "stream",
     "text": [
      "[Per-class IoU] Train: [C0:0.9740, C1:0.9439, C2:0.9433] | Val:   [C0:0.9662, C1:0.9275, C2:0.9147]\n",
      "Epoch 49/60 | LR 2.96e-05 | Train: loss 0.0373, mIoU 0.9537 | Val: loss 0.0931, mIoU 0.9361\n"
     ]
    },
    {
     "name": "stderr",
     "output_type": "stream",
     "text": [
      "                                                                                              \r"
     ]
    },
    {
     "name": "stdout",
     "output_type": "stream",
     "text": [
      "[Per-class IoU] Train: [C0:0.9758, C1:0.9474, C2:0.9455] | Val:   [C0:0.9680, C1:0.9310, C2:0.9181]\n",
      "Epoch 50/60 | LR 2.51e-05 | Train: loss 0.0347, mIoU 0.9562 | Val: loss 0.0873, mIoU 0.9390\n"
     ]
    },
    {
     "name": "stderr",
     "output_type": "stream",
     "text": [
      "                                                                                              \r"
     ]
    },
    {
     "name": "stdout",
     "output_type": "stream",
     "text": [
      "[Per-class IoU] Train: [C0:0.9759, C1:0.9477, C2:0.9484] | Val:   [C0:0.9666, C1:0.9286, C2:0.9150]\n",
      "Epoch 51/60 | LR 2.10e-05 | Train: loss 0.0340, mIoU 0.9573 | Val: loss 0.0903, mIoU 0.9367\n"
     ]
    },
    {
     "name": "stderr",
     "output_type": "stream",
     "text": [
      "                                                                                              \r"
     ]
    },
    {
     "name": "stdout",
     "output_type": "stream",
     "text": [
      "[Per-class IoU] Train: [C0:0.9763, C1:0.9490, C2:0.9473] | Val:   [C0:0.9685, C1:0.9319, C2:0.9176]\n",
      "Epoch 52/60 | LR 1.73e-05 | Train: loss 0.0340, mIoU 0.9575 | Val: loss 0.0836, mIoU 0.9393\n"
     ]
    },
    {
     "name": "stderr",
     "output_type": "stream",
     "text": [
      "                                                                                              \r"
     ]
    },
    {
     "name": "stdout",
     "output_type": "stream",
     "text": [
      "[Per-class IoU] Train: [C0:0.9764, C1:0.9489, C2:0.9490] | Val:   [C0:0.9689, C1:0.9327, C2:0.9198]\n",
      "Epoch 53/60 | LR 1.39e-05 | Train: loss 0.0333, mIoU 0.9581 | Val: loss 0.0899, mIoU 0.9405\n"
     ]
    },
    {
     "name": "stderr",
     "output_type": "stream",
     "text": [
      "                                                                                              \r"
     ]
    },
    {
     "name": "stdout",
     "output_type": "stream",
     "text": [
      "[Per-class IoU] Train: [C0:0.9772, C1:0.9506, C2:0.9473] | Val:   [C0:0.9690, C1:0.9340, C2:0.9157]\n",
      "Epoch 54/60 | LR 1.09e-05 | Train: loss 0.0325, mIoU 0.9583 | Val: loss 0.0860, mIoU 0.9395\n"
     ]
    },
    {
     "name": "stderr",
     "output_type": "stream",
     "text": [
      "                                                                                              \r"
     ]
    },
    {
     "name": "stdout",
     "output_type": "stream",
     "text": [
      "[Per-class IoU] Train: [C0:0.9773, C1:0.9507, C2:0.9504] | Val:   [C0:0.9690, C1:0.9334, C2:0.9177]\n",
      "Epoch 55/60 | LR 8.32e-06 | Train: loss 0.0321, mIoU 0.9595 | Val: loss 0.0882, mIoU 0.9401\n"
     ]
    },
    {
     "name": "stderr",
     "output_type": "stream",
     "text": [
      "                                                                                              \r"
     ]
    },
    {
     "name": "stdout",
     "output_type": "stream",
     "text": [
      "[Per-class IoU] Train: [C0:0.9772, C1:0.9507, C2:0.9510] | Val:   [C0:0.9691, C1:0.9337, C2:0.9181]\n",
      "Epoch 56/60 | LR 6.09e-06 | Train: loss 0.0332, mIoU 0.9596 | Val: loss 0.0886, mIoU 0.9403\n"
     ]
    },
    {
     "name": "stderr",
     "output_type": "stream",
     "text": [
      "                                                                                              \r"
     ]
    },
    {
     "name": "stdout",
     "output_type": "stream",
     "text": [
      "[Per-class IoU] Train: [C0:0.9776, C1:0.9517, C2:0.9500] | Val:   [C0:0.9690, C1:0.9339, C2:0.9155]\n",
      "Epoch 57/60 | LR 4.27e-06 | Train: loss 0.0315, mIoU 0.9598 | Val: loss 0.0875, mIoU 0.9395\n"
     ]
    },
    {
     "name": "stderr",
     "output_type": "stream",
     "text": [
      "                                                                                              \r"
     ]
    },
    {
     "name": "stdout",
     "output_type": "stream",
     "text": [
      "[Per-class IoU] Train: [C0:0.9776, C1:0.9513, C2:0.9493] | Val:   [C0:0.9687, C1:0.9334, C2:0.9148]\n",
      "Epoch 58/60 | LR 2.84e-06 | Train: loss 0.0325, mIoU 0.9594 | Val: loss 0.0858, mIoU 0.9390\n"
     ]
    },
    {
     "name": "stderr",
     "output_type": "stream",
     "text": [
      "                                                                                              \r"
     ]
    },
    {
     "name": "stdout",
     "output_type": "stream",
     "text": [
      "[Per-class IoU] Train: [C0:0.9779, C1:0.9520, C2:0.9513] | Val:   [C0:0.9688, C1:0.9332, C2:0.9193]\n",
      "Epoch 59/60 | LR 1.82e-06 | Train: loss 0.0316, mIoU 0.9604 | Val: loss 0.0901, mIoU 0.9404\n"
     ]
    },
    {
     "name": "stderr",
     "output_type": "stream",
     "text": [
      "                                                                                              \r"
     ]
    },
    {
     "name": "stdout",
     "output_type": "stream",
     "text": [
      "[Per-class IoU] Train: [C0:0.9781, C1:0.9522, C2:0.9510] | Val:   [C0:0.9697, C1:0.9349, C2:0.9175]\n",
      "Epoch 60/60 | LR 1.20e-06 | Train: loss 0.0315, mIoU 0.9605 | Val: loss 0.0884, mIoU 0.9407\n",
      "Обучение завершено.\n",
      "- Лучшая модель по val mIoU: /kaggle/working/best.pt\n",
      "- Финальные веса: /kaggle/working/model_final_weights.pth\n",
      "- История: /kaggle/working/history.json\n"
     ]
    }
   ],
   "source": [
    "SEED = 42\n",
    "random.seed(SEED); np.random.seed(SEED); torch.manual_seed(SEED)\n",
    "if torch.cuda.is_available():\n",
    "    torch.cuda.manual_seed_all(SEED)\n",
    "\n",
    "torch.backends.cudnn.deterministic = True\n",
    "torch.backends.cudnn.benchmark = False\n",
    "\n",
    "\n",
    "def _auto_num_workers():\n",
    "    try:\n",
    "        cpu = os.cpu_count() or 2\n",
    "    except:\n",
    "        cpu = 2\n",
    "    return min(4, max(2, cpu // 2))\n",
    "\n",
    "NUM_WORKERS = _auto_num_workers()\n",
    "\n",
    "dataloader_train = DataLoader(\n",
    "    dataset_train,\n",
    "    batch_size=BATCH_SIZE,\n",
    "    shuffle=True,\n",
    "    pin_memory=True,\n",
    "    num_workers=NUM_WORKERS,\n",
    "    drop_last=True,                \n",
    "    persistent_workers=NUM_WORKERS > 0,\n",
    "    prefetch_factor=2 if NUM_WORKERS > 0 else None\n",
    ")\n",
    "\n",
    "dataloader_val = DataLoader(\n",
    "    dataset_val,\n",
    "    batch_size=BATCH_SIZE,\n",
    "    shuffle=False,\n",
    "    pin_memory=True,\n",
    "    num_workers=NUM_WORKERS,\n",
    "    drop_last=False,\n",
    "    persistent_workers=NUM_WORKERS > 0,\n",
    "    prefetch_factor=2 if NUM_WORKERS > 0 else None\n",
    ")\n",
    "\n",
    "NUM_EPOCHS = 60\n",
    "DIR_SAVE = \"/kaggle/working\"\n",
    "os.makedirs(DIR_SAVE, exist_ok=True)\n",
    "BEST_CKPT = os.path.join(DIR_SAVE, \"best.pt\")\n",
    "\n",
    "history = Trainer(\n",
    "    model=model,\n",
    "    num_classes=NUM_CLASSES,\n",
    "    optimizer=optimizer,\n",
    "    loss_fn=loss_fn,\n",
    "    acc_fn=FN_ACC,                \n",
    "    epochs=NUM_EPOCHS,\n",
    "    data_tr=dataloader_train,\n",
    "    data_val=dataloader_val,\n",
    "    scheduler=(scheduler if \"scheduler\" in globals() and scheduler is not None else None),\n",
    "    best_ckpt_path=BEST_CKPT,\n",
    "    use_amp=True,                  \n",
    "    grad_clip=1.0,                \n",
    "    accumulate_steps=1\n",
    ")\n",
    "\n",
    "torch.save(model.state_dict(), os.path.join(DIR_SAVE, \"model_final_weights.pth\"))\n",
    "\n",
    "with open(os.path.join(DIR_SAVE, \"history.json\"), \"w\") as f:\n",
    "    json.dump(history, f, indent=2)\n",
    "\n",
    "print(f\"Обучение завершено.\\n\"\n",
    "      f\"- Лучшая модель по val mIoU: {BEST_CKPT}\\n\"\n",
    "      f\"- Финальные веса: {os.path.join(DIR_SAVE, 'model_final_weights.pth')}\\n\"\n",
    "      f\"- История: {os.path.join(DIR_SAVE, 'history.json')}\")"
   ]
  },
  {
   "cell_type": "code",
   "execution_count": null,
   "metadata": {
    "_cell_guid": "6d14e29a-4242-4548-8ec9-01dfb752588f",
    "_uuid": "e5607f9e-24fa-4e9e-9240-ede31b34e291",
    "collapsed": false,
    "execution": {
     "iopub.execute_input": "2025-09-12T21:33:11.096660Z",
     "iopub.status.busy": "2025-09-12T21:33:11.095925Z",
     "iopub.status.idle": "2025-09-12T21:33:11.978673Z",
     "shell.execute_reply": "2025-09-12T21:33:11.977900Z",
     "shell.execute_reply.started": "2025-09-12T21:33:11.096634Z"
    },
    "jupyter": {
     "outputs_hidden": false
    },
    "trusted": true
   },
   "outputs": [
    {
     "data": {
      "image/png": "[encoded data removed]",
      "text/plain": [
       "<Figure size 1500x1000 with 4 Axes>"
      ]
     },
     "metadata": {},
     "output_type": "display_data"
    },
    {
     "name": "stdout",
     "output_type": "stream",
     "text": [
      "Финальные метрики после обучения:\n",
      " - Train loss: 0.0315\n",
      " - Val   loss: 0.0884\n",
      " - Train mIoU(1,2): 0.9605\n",
      " - Val   mIoU(1,2): 0.9407\n",
      " - Train IoU per class: [C0=0.9781, C1=0.9522, C2=0.9510]\n",
      " - Val   IoU per class: [C0=0.9697, C1=0.9349, C2=0.9175]\n"
     ]
    }
   ],
   "source": [
    "if not history:\n",
    "    print(\"История обучения пуста. Запустите обучение, чтобы сгенерировать данные для графиков.\")\n",
    "else:\n",
    "    train_losses = [e.get(\"train_loss\", np.nan) for e in history]\n",
    "    val_losses   = [e.get(\"val_loss\",   np.nan) for e in history]\n",
    "\n",
    "    train_miou12 = [e.get(\"train_miou\", np.nan) for e in history]\n",
    "    val_miou12   = [e.get(\"val_miou\",   np.nan) for e in history]\n",
    "\n",
    "    def _safe_class(e, k, c, default=np.nan):\n",
    "        v = e.get(k, None)\n",
    "        if isinstance(v, (list, tuple)) and len(v) > c:\n",
    "            return v[c]\n",
    "        return default\n",
    "\n",
    "    train_iou_0 = [_safe_class(e, \"train_iou_per_class\", 0) for e in history]\n",
    "    train_iou_1 = [_safe_class(e, \"train_iou_per_class\", 1) for e in history]\n",
    "    train_iou_2 = [_safe_class(e, \"train_iou_per_class\", 2) for e in history]\n",
    "\n",
    "    val_iou_0 = [_safe_class(e, \"val_iou_per_class\", 0) for e in history]\n",
    "    val_iou_1 = [_safe_class(e, \"val_iou_per_class\", 1) for e in history]\n",
    "    val_iou_2 = [_safe_class(e, \"val_iou_per_class\", 2) for e in history]\n",
    "\n",
    "    epochs_range = range(1, len(train_losses) + 1)\n",
    "\n",
    "    plt.figure(figsize=(15, 10))\n",
    "\n",
    "    plt.subplot(2, 2, 1)\n",
    "    plt.plot(epochs_range, train_losses, label=\"Train Loss\", linewidth=2)\n",
    "    plt.plot(epochs_range, val_losses,   label=\"Validation Loss\", linewidth=2)\n",
    "    plt.xlabel('Epoch'); plt.ylabel('Loss'); plt.title('Training and Validation Loss')\n",
    "    plt.legend(); plt.grid(True)\n",
    "\n",
    "    plt.subplot(2, 2, 2)\n",
    "    plt.plot(epochs_range, train_miou12, label=\"Train mIoU (classes 1,2)\", linewidth=2)\n",
    "    plt.plot(epochs_range, val_miou12,   label=\"Val mIoU (classes 1,2)\",   linewidth=2)\n",
    "    plt.xlabel('Epoch'); plt.ylabel('mIoU (1,2)'); plt.title('Average mIoU over classes 1 & 2')\n",
    "    plt.legend(); plt.grid(True)\n",
    "\n",
    "    plt.subplot(2, 2, 3)\n",
    "    plt.plot(epochs_range, train_iou_0, label=\"Class 0 (Фон)\", linewidth=2)\n",
    "    plt.plot(epochs_range, train_iou_1, label=\"Class 1 (Отвалы)\", linewidth=2)\n",
    "    plt.plot(epochs_range, train_iou_2, label=\"Class 2 (Хвостохранилища)\", linewidth=2)\n",
    "    plt.xlabel('Epoch'); plt.ylabel('IoU'); plt.title('Training IoU by Class')\n",
    "    plt.legend(); plt.grid(True)\n",
    "\n",
    "    plt.subplot(2, 2, 4)\n",
    "    plt.plot(epochs_range, val_iou_0, label=\"Class 0 (Фон)\", linewidth=2)\n",
    "    plt.plot(epochs_range, val_iou_1, label=\"Class 1 (Отвалы)\", linewidth=2)\n",
    "    plt.plot(epochs_range, val_iou_2, label=\"Class 2 (Хвостохранилища)\", linewidth=2)\n",
    "    plt.xlabel('Epoch'); plt.ylabel('IoU'); plt.title('Validation IoU by Class')\n",
    "    plt.legend(); plt.grid(True)\n",
    "\n",
    "    plt.tight_layout()\n",
    "    plt.show()\n",
    "\n",
    "    print(\"Финальные метрики после обучения:\")\n",
    "    print(f\" - Train loss: {train_losses[-1]:.4f}\")\n",
    "    print(f\" - Val   loss: {val_losses[-1]:.4f}\")\n",
    "    print(f\" - Train mIoU(1,2): {train_miou12[-1]:.4f}\")\n",
    "    print(f\" - Val   mIoU(1,2): {val_miou12[-1]:.4f}\")\n",
    "    print(f\" - Train IoU per class: [C0={train_iou_0[-1]:.4f}, C1={train_iou_1[-1]:.4f}, C2={train_iou_2[-1]:.4f}]\")\n",
    "    print(f\" - Val   IoU per class: [C0={val_iou_0[-1]:.4f}, C1={val_iou_1[-1]:.4f}, C2={val_iou_2[-1]:.4f}]\")\n"
   ]
  },
  {
   "cell_type": "code",
   "execution_count": null,
   "metadata": {
    "_cell_guid": "8e681b8c-0e21-4715-8e04-5cbc680c1da1",
    "_uuid": "cd903e75-a14c-44cf-824c-009eb923db4a",
    "collapsed": false,
    "execution": {
     "iopub.execute_input": "2025-09-12T21:31:21.083732Z",
     "iopub.status.busy": "2025-09-12T21:31:21.083460Z",
     "iopub.status.idle": "2025-09-12T21:31:21.997084Z",
     "shell.execute_reply": "2025-09-12T21:31:21.996274Z",
     "shell.execute_reply.started": "2025-09-12T21:31:21.083711Z"
    },
    "jupyter": {
     "outputs_hidden": false
    },
    "trusted": true
   },
   "outputs": [
    {
     "name": "stdout",
     "output_type": "stream",
     "text": [
      "Найдено 10 тестовых изображений.\n"
     ]
    },
    {
     "name": "stderr",
     "output_type": "stream",
     "text": [
      "Inference:   0%|          | 0/10 [00:00<?, ?it/s]/usr/local/lib/python3.11/dist-packages/rasterio/__init__.py:366: NotGeoreferencedWarning: Dataset has no geotransform, gcps, or rpcs. The identity matrix will be returned.\n",
      "  dataset = writer(\n",
      "Inference: 100%|██████████| 10/10 [00:00<00:00, 15.31it/s]"
     ]
    },
    {
     "name": "stdout",
     "output_type": "stream",
     "text": [
      "Маски сохранены в: /kaggle/working/segmentation_openset\n",
      "Архив для отправки: /kaggle/working/submission.zip\n"
     ]
    },
    {
     "name": "stderr",
     "output_type": "stream",
     "text": [
      "\n"
     ]
    }
   ],
   "source": [
    "WEIGHTS_PATH = \"/kaggle/working/model_final_weights.pth\"\n",
    "TEST_IMAGES_PATH = \"/kaggle/input/test-open-dataset/test/image\"\n",
    "\n",
    "ROOT_OUT = \"/kaggle/working\"\n",
    "DIR_OUT = os.path.join(ROOT_OUT, \"segmentation_openset\")  \n",
    "os.makedirs(DIR_OUT, exist_ok=True)\n",
    "\n",
    "state = torch.load(WEIGHTS_PATH, map_location=DEVICE)\n",
    "\n",
    "model.load_state_dict(state)\n",
    "\n",
    "model.eval()\n",
    "\n",
    "def list_tifs(folder):\n",
    "    return sorted(\n",
    "        glob.glob(os.path.join(folder, \"*.tif\")) +\n",
    "        glob.glob(os.path.join(folder, \"*.tiff\"))\n",
    "    )\n",
    "\n",
    "def read_image_as_tensor(pth_tif, channels_idx):\n",
    "    with rasterio.open(pth_tif) as f:\n",
    "        img = f.read().astype(np.float32) \n",
    "    np.nan_to_num(img, copy=False, nan=0.0, posinf=0.0, neginf=0.0)\n",
    "    if channels_idx is not None:\n",
    "        img = img[np.asarray(channels_idx, dtype=int)]\n",
    "    return torch.from_numpy(img).unsqueeze(0) \n",
    "\n",
    "def ensure_256x256_label(arr_hw: np.ndarray) -> np.ndarray:\n",
    "    h, w = arr_hw.shape\n",
    "    if (h, w) == (256, 256):\n",
    "        return arr_hw.astype(np.uint8, copy=False)\n",
    "    import PIL.Image as PILImage\n",
    "    im = PILImage.fromarray(arr_hw.astype(np.uint8), mode=\"L\")\n",
    "    im = im.resize((256, 256), resample=PILImage.NEAREST)\n",
    "    return np.asarray(im, dtype=np.uint8)\n",
    "\n",
    "def write_tiff_mask(path_tif: str, label_uint8_256: np.ndarray):\n",
    "    meta = {\n",
    "        \"driver\": \"GTiff\",\n",
    "        \"height\": 256,\n",
    "        \"width\": 256,\n",
    "        \"count\": 1,\n",
    "        \"dtype\": \"uint8\",\n",
    "        \"compress\": \"lzw\",\n",
    "        \"nodata\": None,\n",
    "    }\n",
    "    with rasterio.open(path_tif, \"w\", **meta) as dst:\n",
    "        dst.write(label_uint8_256, 1)\n",
    "\n",
    "\n",
    "test_imgs = list_tifs(TEST_IMAGES_PATH)\n",
    "print(f\"Найдено {len(test_imgs)} тестовых изображений.\")\n",
    "\n",
    "with torch.no_grad():\n",
    "    for pth_img in tqdm(test_imgs, desc=\"Inference\"):\n",
    "        x = read_image_as_tensor(pth_img, LST_CHANNELS).to(DEVICE, non_blocking=True)\n",
    "        logits = model(x)                       \n",
    "        pred = torch.argmax(logits, dim=1)[0]     \n",
    "        pred = pred.detach().cpu().numpy().astype(np.uint8)\n",
    "\n",
    "        \n",
    "        pred = ensure_256x256_label(pred)\n",
    "\n",
    "       \n",
    "        uniq = set(np.unique(pred).tolist())\n",
    "        assert uniq.issubset({0, 1, 2, 3}), f\"{Path(pth_img).name}: найдены недопустимые значения {uniq}\"\n",
    "        assert pred.dtype == np.uint8 and pred.shape == (256, 256)\n",
    "\n",
    "        \n",
    "        out_name = Path(pth_img).name\n",
    "        out_path = os.path.join(DIR_OUT, out_name)\n",
    "        write_tiff_mask(out_path, pred)\n",
    "\n",
    "print(f\"Маски сохранены в: {DIR_OUT}\")\n",
    "\n",
    "ZIP_PATH = os.path.join(ROOT_OUT, \"submission.zip\")\n",
    "with zipfile.ZipFile(ZIP_PATH, \"w\", compression=zipfile.ZIP_DEFLATED) as z:\n",
    "    for p in sorted(glob.glob(os.path.join(DIR_OUT, \"*.tif\")) +\n",
    "                    glob.glob(os.path.join(DIR_OUT, \"*.tiff\"))):\n",
    "        z.write(p, arcname=os.path.join(\"segmentation_openset\", os.path.basename(p)))\n",
    "\n",
    "print(f\"Архив для отправки: {ZIP_PATH}\")"
   ]
  },
  {
   "cell_type": "code",
   "execution_count": null,
   "metadata": {
    "_cell_guid": "14d17178-9741-41d1-ba3b-53fa56371f47",
    "_uuid": "17ad9a34-1cc5-44ae-b3a8-a20dbb3a469b",
    "collapsed": false,
    "execution": {
     "iopub.execute_input": "2025-09-12T21:31:25.465842Z",
     "iopub.status.busy": "2025-09-12T21:31:25.465033Z",
     "iopub.status.idle": "2025-09-12T21:31:33.559475Z",
     "shell.execute_reply": "2025-09-12T21:31:33.558649Z",
     "shell.execute_reply.started": "2025-09-12T21:31:25.465786Z"
    },
    "jupyter": {
     "outputs_hidden": false
    },
    "trusted": true
   },
   "outputs": [
    {
     "name": "stdout",
     "output_type": "stream",
     "text": [
      "Найдено 133 тестовых изображений.\n"
     ]
    },
    {
     "name": "stderr",
     "output_type": "stream",
     "text": [
      "Inference: 100%|██████████| 133/133 [00:07<00:00, 17.08it/s]"
     ]
    },
    {
     "name": "stdout",
     "output_type": "stream",
     "text": [
      "Маски сохранены в: /kaggle/working/segmentation_closedset_1\n",
      "Архив для отправки: /kaggle/working/submission.zip\n"
     ]
    },
    {
     "name": "stderr",
     "output_type": "stream",
     "text": [
      "\n"
     ]
    }
   ],
   "source": [
    "WEIGHTS_PATH = \"/kaggle/working/model_final_weights.pth\"\n",
    "TEST_IMAGES_PATH = \"/kaggle/input/final-data/final_test/image\"\n",
    "\n",
    "ROOT_OUT = \"/kaggle/working\"\n",
    "DIR_OUT = os.path.join(ROOT_OUT, \"segmentation_closedset_1\")  \n",
    "os.makedirs(DIR_OUT, exist_ok=True)\n",
    "\n",
    "state = torch.load(WEIGHTS_PATH, map_location=DEVICE)\n",
    "\n",
    "model.load_state_dict(state)\n",
    "\n",
    "model.eval()\n",
    "\n",
    "test_imgs = list_tifs(TEST_IMAGES_PATH)\n",
    "print(f\"Найдено {len(test_imgs)} тестовых изображений.\")\n",
    "\n",
    "with torch.no_grad():\n",
    "    for pth_img in tqdm(test_imgs, desc=\"Inference\"):\n",
    "        x = read_image_as_tensor(pth_img, LST_CHANNELS).to(DEVICE, non_blocking=True)\n",
    "        logits = model(x)                        \n",
    "        pred = torch.argmax(logits, dim=1)[0]   \n",
    "        pred = pred.detach().cpu().numpy().astype(np.uint8)\n",
    "        \n",
    "        pred = ensure_256x256_label(pred)\n",
    "\n",
    "        uniq = set(np.unique(pred).tolist())\n",
    "        assert uniq.issubset({0, 1, 2, 3}), f\"{Path(pth_img).name}: найдены недопустимые значения {uniq}\"\n",
    "        assert pred.dtype == np.uint8 and pred.shape == (256, 256)\n",
    "\n",
    "        out_name = Path(pth_img).name\n",
    "        out_path = os.path.join(DIR_OUT, out_name)\n",
    "        write_tiff_mask(out_path, pred)\n",
    "\n",
    "print(f\"Маски сохранены в: {DIR_OUT}\")\n",
    "\n",
    "ZIP_PATH = os.path.join(ROOT_OUT, \"submission.zip\")\n",
    "\n",
    "with zipfile.ZipFile(ZIP_PATH, \"w\", compression=zipfile.ZIP_DEFLATED) as z:\n",
    "    for p in sorted(glob.glob(os.path.join(DIR_OUT, \"*.tif\")) +\n",
    "                    glob.glob(os.path.join(DIR_OUT, \"*.tiff\"))):\n",
    "        z.write(p, arcname=os.path.join(\"segmentation_closedset\", os.path.basename(p)))\n",
    "\n",
    "print(f\"Архив для отправки: {ZIP_PATH}\")"
   ]
  },
  {
   "cell_type": "code",
   "execution_count": null,
   "metadata": {
    "trusted": true
   },
   "outputs": [],
   "source": []
  }
 ],
 "metadata": {
  "kaggle": {
   "accelerator": "gpu",
   "dataSources": [
    {
     "datasetId": 8249119,
     "sourceId": 13028094,
     "sourceType": "datasetVersion"
    },
    {
     "datasetId": 8257241,
     "sourceId": 13040045,
     "sourceType": "datasetVersion"
    },
    {
     "datasetId": 8257253,
     "sourceId": 13040060,
     "sourceType": "datasetVersion"
    }
   ],
   "dockerImageVersionId": 31090,
   "isGpuEnabled": true,
   "isInternetEnabled": true,
   "language": "python",
   "sourceType": "notebook"
  },
  "kernelspec": {
   "display_name": "Python 3",
   "language": "python",
   "name": "python3"
  },
  "language_info": {
   "codemirror_mode": {
    "name": "ipython",
    "version": 3
   },
   "file_extension": ".py",
   "mimetype": "text/x-python",
   "name": "python",
   "nbconvert_exporter": "python",
   "pygments_lexer": "ipython3",
   "version": "3.11.13"
  }
 },
 "nbformat": 4,
 "nbformat_minor": 4
}
